{
  "nbformat": 4,
  "nbformat_minor": 0,
  "metadata": {
    "colab": {
      "provenance": [],
      "gpuType": "A100",
      "machine_shape": "hm",
      "authorship_tag": "ABX9TyMiBu4dNjNAu02FmjHjkV8U",
      "include_colab_link": true
    },
    "kernelspec": {
      "name": "python3",
      "display_name": "Python 3"
    },
    "language_info": {
      "name": "python"
    },
    "accelerator": "GPU"
  },
  "cells": [
    {
      "cell_type": "markdown",
      "metadata": {
        "id": "view-in-github",
        "colab_type": "text"
      },
      "source": [
        "<a href=\"https://colab.research.google.com/github/RedHotChiliPeppers35/ChatGPT-integration-to-FlutterApp/blob/main/Twitter_Sentiment_Analysis.ipynb\" target=\"_parent\"><img src=\"https://colab.research.google.com/assets/colab-badge.svg\" alt=\"Open In Colab\"/></a>"
      ]
    },
    {
      "cell_type": "code",
      "execution_count": null,
      "metadata": {
        "id": "RjFo7ZUxvioH"
      },
      "outputs": [],
      "source": [
        "pip install transformers datasets torch scikit-learn pandas\n"
      ]
    },
    {
      "cell_type": "code",
      "source": [
        "from transformers import pipeline"
      ],
      "metadata": {
        "id": "p7Qma6B9vrAj"
      },
      "execution_count": 27,
      "outputs": []
    },
    {
      "cell_type": "code",
      "source": [
        "sentiment = pipeline(\"sentiment-analysis\")"
      ],
      "metadata": {
        "id": "Uw_k_oyrwR0T"
      },
      "execution_count": null,
      "outputs": []
    },
    {
      "cell_type": "code",
      "source": [
        "print(sentiment(\"I love this sunny Fridays\"))\n",
        "print(sentiment(\"I love this phone! It's amazing.\"))\n",
        "print(sentiment(\"This is the worst thing I've ever bought.\"))"
      ],
      "metadata": {
        "id": "XDRua9uwwe-G"
      },
      "execution_count": null,
      "outputs": []
    },
    {
      "cell_type": "code",
      "source": [
        "pip install transformers torch pandas\n"
      ],
      "metadata": {
        "id": "NeXiPK4pPHUo",
        "collapsed": true
      },
      "execution_count": null,
      "outputs": []
    },
    {
      "cell_type": "code",
      "source": [
        "from transformers import AutoTokenizer, AutoModelForSequenceClassification\n",
        "from scipy.special import softmax\n",
        "import torch\n",
        "import pandas as pd"
      ],
      "metadata": {
        "id": "dpBekoyrOnMW"
      },
      "execution_count": 31,
      "outputs": []
    },
    {
      "cell_type": "code",
      "source": [
        "MODEL = \"cardiffnlp/twitter-roberta-base-sentiment\"\n",
        "tokenizer = AutoTokenizer.from_pretrained(MODEL)\n",
        "model = AutoModelForSequenceClassification.from_pretrained(MODEL)"
      ],
      "metadata": {
        "id": "mERj3Bq_Opdb",
        "collapsed": true
      },
      "execution_count": 32,
      "outputs": []
    },
    {
      "cell_type": "code",
      "source": [
        "def analyze_sentiment(text):\n",
        "    # Preprocessing\n",
        "    encoded_input = tokenizer(text, return_tensors='pt', truncation=True)\n",
        "    with torch.no_grad():\n",
        "        output = model(**encoded_input)\n",
        "    scores = output.logits[0].numpy()\n",
        "    scores = softmax(scores)  # Normalize to probabilities\n",
        "\n",
        "    labels = ['negative', 'neutral', 'positive']\n",
        "    sentiment = {label: float(score) for label, score in zip(labels, scores)}\n",
        "    return max(sentiment, key=sentiment.get)  # return the label with highest score\n"
      ],
      "metadata": {
        "id": "biezpXg_PAtr"
      },
      "execution_count": 33,
      "outputs": []
    },
    {
      "cell_type": "code",
      "source": [
        "import tweepy\n",
        "import pandas as pd\n",
        "\n",
        "# Set your Bearer Token here\n",
        "bearer_token = 'your_bearer_token'\n",
        "\n",
        "# Authenticate\n",
        "client = tweepy.Client(bearer_token=bearer_token)\n",
        "\n",
        "# Define query parameters\n",
        "query = 'iPhone -is:retweet lang:en'  # search tweets about \"iPhone\" in English\n",
        "\n",
        "# Get recent tweets\n",
        "tweets = client.search_recent_tweets(query=query, max_results=50)\n",
        "\n",
        "# Parse tweets\n",
        "tweet_texts = [tweet.text for tweet in tweets.data]\n",
        "\n",
        "# Convert to DataFrame\n",
        "df = pd.DataFrame(tweet_texts, columns=[\"tweet\"])\n",
        "print(df.head())\n"
      ],
      "metadata": {
        "id": "wqPi7DiDRVWn"
      },
      "execution_count": null,
      "outputs": []
    },
    {
      "cell_type": "code",
      "source": [
        "newdf = df[\"tweet\"]\n",
        "print(newdf)"
      ],
      "metadata": {
        "id": "C83T9sy8RfmV"
      },
      "execution_count": null,
      "outputs": []
    },
    {
      "cell_type": "code",
      "source": [
        "list_of_tweets = newdf.tolist()"
      ],
      "metadata": {
        "id": "-msm0rA2Rfjg"
      },
      "execution_count": null,
      "outputs": []
    },
    {
      "cell_type": "code",
      "source": [
        "results = [analyze_sentiment(tweet) for tweet in list_of_tweets]"
      ],
      "metadata": {
        "id": "59k2QSD8Rfgp"
      },
      "execution_count": null,
      "outputs": []
    },
    {
      "cell_type": "code",
      "source": [
        "df = pd.DataFrame({'tweet': list_of_tweets, 'sentiment': results})\n",
        "print(df)"
      ],
      "metadata": {
        "id": "wW3itI2FRfYC"
      },
      "execution_count": null,
      "outputs": []
    },
    {
      "cell_type": "code",
      "source": [],
      "metadata": {
        "id": "97kzMtdI88J2"
      },
      "execution_count": null,
      "outputs": []
    }
  ]
}